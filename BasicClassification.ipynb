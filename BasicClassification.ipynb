{
 "cells": [
  {
   "cell_type": "markdown",
   "metadata": {},
   "source": [
    "# * Prerequisites"
   ]
  },
  {
   "cell_type": "markdown",
   "metadata": {},
   "source": [
    "You should familiarize yourself with the `numpy.ndarray` class of python's `numpy` library.\n",
    "\n",
    "You should be able to answer the following questions before starting this assignment. Let's assume `a` is a numpy array.\n",
    "* What is an array's shape (e.g., what is the meaning of `a.shape`)?  \n",
    "* What is numpy's reshaping operation? How much computational over-head would it induce?  \n",
    "* What is numpy's transpose operation, and how it is different from reshaping? Does it cause computation overhead?\n",
    "* What is the meaning of the commands `a.reshape(-1, 1)` and `a.reshape(-1)`?\n",
    "* Would happens to the variable `a` after we call `b = a.reshape(-1)`? Does any of `a`'s attributes change?\n",
    "* How do assignments in python and numpy work in general?\n",
    "    * Does the `b=a` statement use copying by value? Or is it copying by reference?\n",
    "    * Is the answer to the previous question change depending on whether `a` is a numpy array or a scalar value?\n",
    "    \n",
    "You can answer all of these questions by\n",
    "\n",
    "    1. Reading numpy's documentation from https://numpy.org/doc/stable/.\n",
    "    2. Making trials using dummy variables."
   ]
  },
  {
   "cell_type": "markdown",
   "metadata": {},
   "source": [
    "# *Assignment Summary"
   ]
  },
  {
   "cell_type": "markdown",
   "metadata": {},
   "source": [
    "The UC Irvine machine learning data repository hosts a famous collection of data on whether a patient has diabetes (the Pima Indians dataset), originally owned by the National Institute of Diabetes and Digestive and Kidney Diseases and donated by Vincent Sigillito. You can find this data at  https://www.kaggle.com/uciml/pima-indians-diabetes-database/data. This data has a set of attributes of patients, and a categorical variable telling whether the patient is diabetic or not. For several attributes in this data set, a value of 0 may indicate a missing value of the variable.\n",
    "\n",
    "* **Part 1-A)** Build a simple naive Bayes classifier to classify this data set. We will use 20% of the data for evaluation and the other 80% for training. \n",
    "\n",
    "  There are a total of 768 data-points. You should use a normal distribution to model each of the class-conditional distributions. You should write this classifier yourself (it's quite straight-forward).\n",
    "\n",
    "  Report the accuracy of the classifier on the 20% evaluation data, where accuracy is the number of correct predictions as a fraction of total predictions.\n",
    "\n",
    "* **Part 1-B)** Now adjust your code so that, for attribute 3 (Diastolic blood pressure), attribute 4 (Triceps skin fold thickness), attribute 6 (Body mass index), and attribute 8 (Age), it regards a value of 0 as a missing value when estimating the class-conditional distributions, and the posterior.\n",
    "\n",
    "  Report the accuracy of the classifier on the 20% that was held out for evaluation.\n",
    "\n",
    "* **Part 1-C)** Now install SVMLight, which you can find at http://svmlight.joachims.org, to train and evaluate an SVM to classify this data.\n",
    "\n",
    "  You don't need to understand much about SVM's to do this as we'll do that in following exercises. You should NOT substitute NA values for zeros for attributes 3, 4, 6, and 8.\n",
    "  \n",
    "  Report the accuracy of the classifier on the held out 20%"
   ]
  },
  {
   "cell_type": "markdown",
   "metadata": {},
   "source": [
    "# 0. Data"
   ]
  },
  {
   "cell_type": "markdown",
   "metadata": {},
   "source": [
    "## 0.1 Description"
   ]
  },
  {
   "cell_type": "markdown",
   "metadata": {},
   "source": [
    "The UC Irvine's Machine Learning Data Repository Department hosts a Kaggle Competition with famous collection of data on whether a patient has diabetes (the Pima Indians dataset), originally owned by the National Institute of Diabetes and Digestive and Kidney Diseases and donated by Vincent Sigillito. \n",
    "\n",
    "You can find this data at https://www.kaggle.com/uciml/pima-indians-diabetes-database/data. The Kaggle website offers valuable visualizations of the original data dimensions in its dashboard. It is quite insightful to take the time and make sense of the data using their dashboard before applying any method to the data."
   ]
  },
  {
   "cell_type": "markdown",
   "metadata": {},
   "source": [
    "## 0.2 Information Summary"
   ]
  },
  {
   "cell_type": "markdown",
   "metadata": {},
   "source": [
    "* **Input/Output**: This data has a set of attributes of patients, and a categorical variable telling whether the patient is diabetic or not. \n",
    "\n",
    "* **Missing Data**: For several attributes in this data set, a value of 0 may indicate a missing value of the variable.\n",
    "\n",
    "* **Final Goal**: We want to build a classifier that can predict whether a patient has diabetes or not. To do this, we will train multiple kinds of models, and will be handing the missing data with different approaches for each method (i.e., some methods will ignore their existence, while others may do something about the missing data)."
   ]
  },
  {
   "cell_type": "markdown",
   "metadata": {},
   "source": [
    "## 0.3 Loading"
   ]
  },
  {
   "cell_type": "code",
   "execution_count": 46,
   "metadata": {},
   "outputs": [],
   "source": [
    "%matplotlib inline\n",
    "import pandas as pd\n",
    "import numpy as np\n",
    "import seaborn as sns\n",
    "import matplotlib.pyplot as plt\n",
    "\n",
    "from utils import test_case_checker"
   ]
  },
  {
   "cell_type": "code",
   "execution_count": 47,
   "metadata": {},
   "outputs": [
    {
     "data": {
      "text/html": [
       "<div>\n",
       "<style scoped>\n",
       "    .dataframe tbody tr th:only-of-type {\n",
       "        vertical-align: middle;\n",
       "    }\n",
       "\n",
       "    .dataframe tbody tr th {\n",
       "        vertical-align: top;\n",
       "    }\n",
       "\n",
       "    .dataframe thead th {\n",
       "        text-align: right;\n",
       "    }\n",
       "</style>\n",
       "<table border=\"1\" class=\"dataframe\">\n",
       "  <thead>\n",
       "    <tr style=\"text-align: right;\">\n",
       "      <th></th>\n",
       "      <th>Pregnancies</th>\n",
       "      <th>Glucose</th>\n",
       "      <th>BloodPressure</th>\n",
       "      <th>SkinThickness</th>\n",
       "      <th>Insulin</th>\n",
       "      <th>BMI</th>\n",
       "      <th>DiabetesPedigreeFunction</th>\n",
       "      <th>Age</th>\n",
       "      <th>Outcome</th>\n",
       "    </tr>\n",
       "  </thead>\n",
       "  <tbody>\n",
       "    <tr>\n",
       "      <th>0</th>\n",
       "      <td>6</td>\n",
       "      <td>148</td>\n",
       "      <td>72</td>\n",
       "      <td>35</td>\n",
       "      <td>0</td>\n",
       "      <td>33.6</td>\n",
       "      <td>0.627</td>\n",
       "      <td>50</td>\n",
       "      <td>1</td>\n",
       "    </tr>\n",
       "    <tr>\n",
       "      <th>1</th>\n",
       "      <td>1</td>\n",
       "      <td>85</td>\n",
       "      <td>66</td>\n",
       "      <td>29</td>\n",
       "      <td>0</td>\n",
       "      <td>26.6</td>\n",
       "      <td>0.351</td>\n",
       "      <td>31</td>\n",
       "      <td>0</td>\n",
       "    </tr>\n",
       "    <tr>\n",
       "      <th>2</th>\n",
       "      <td>8</td>\n",
       "      <td>183</td>\n",
       "      <td>64</td>\n",
       "      <td>0</td>\n",
       "      <td>0</td>\n",
       "      <td>23.3</td>\n",
       "      <td>0.672</td>\n",
       "      <td>32</td>\n",
       "      <td>1</td>\n",
       "    </tr>\n",
       "    <tr>\n",
       "      <th>3</th>\n",
       "      <td>1</td>\n",
       "      <td>89</td>\n",
       "      <td>66</td>\n",
       "      <td>23</td>\n",
       "      <td>94</td>\n",
       "      <td>28.1</td>\n",
       "      <td>0.167</td>\n",
       "      <td>21</td>\n",
       "      <td>0</td>\n",
       "    </tr>\n",
       "    <tr>\n",
       "      <th>4</th>\n",
       "      <td>0</td>\n",
       "      <td>137</td>\n",
       "      <td>40</td>\n",
       "      <td>35</td>\n",
       "      <td>168</td>\n",
       "      <td>43.1</td>\n",
       "      <td>2.288</td>\n",
       "      <td>33</td>\n",
       "      <td>1</td>\n",
       "    </tr>\n",
       "  </tbody>\n",
       "</table>\n",
       "</div>"
      ],
      "text/plain": [
       "   Pregnancies  Glucose  BloodPressure  SkinThickness  Insulin   BMI  \\\n",
       "0            6      148             72             35        0  33.6   \n",
       "1            1       85             66             29        0  26.6   \n",
       "2            8      183             64              0        0  23.3   \n",
       "3            1       89             66             23       94  28.1   \n",
       "4            0      137             40             35      168  43.1   \n",
       "\n",
       "   DiabetesPedigreeFunction  Age  Outcome  \n",
       "0                     0.627   50        1  \n",
       "1                     0.351   31        0  \n",
       "2                     0.672   32        1  \n",
       "3                     0.167   21        0  \n",
       "4                     2.288   33        1  "
      ]
     },
     "execution_count": 47,
     "metadata": {},
     "output_type": "execute_result"
    }
   ],
   "source": [
    "df = pd.read_csv('diabetes.csv')\n",
    "df.head()"
   ]
  },
  {
   "cell_type": "markdown",
   "metadata": {},
   "source": [
    "## 0.1 Splitting The Data"
   ]
  },
  {
   "cell_type": "markdown",
   "metadata": {},
   "source": [
    "First, we will shuffle the data completely, and forget about the order in the original csv file. \n",
    "\n",
    "* The training and evaluation dataframes will be named ```train_df``` and ```eval_df```, respectively.\n",
    "\n",
    "* We will also create the 2-d numpy array `train_features` whose number of rows is the number of training samples, and the number of columns is 8 (i.e., the number of features). We will define `eval_features` in a similar fashion\n",
    "\n",
    "* We would also create the 1-d numpy arrays `train_labels` and `eval_labels` which contain the training and evaluation labels, respectively."
   ]
  },
  {
   "cell_type": "code",
   "execution_count": 48,
   "metadata": {},
   "outputs": [],
   "source": [
    "# Let's generate the split ourselves.\n",
    "np_random = np.random.RandomState(seed=12345)\n",
    "rand_unifs = np_random.uniform(0,1,size=df.shape[0])\n",
    "division_thresh = np.percentile(rand_unifs, 80)\n",
    "train_indicator = rand_unifs < division_thresh\n",
    "eval_indicator = rand_unifs >= division_thresh"
   ]
  },
  {
   "cell_type": "code",
   "execution_count": 49,
   "metadata": {},
   "outputs": [
    {
     "data": {
      "text/html": [
       "<div>\n",
       "<style scoped>\n",
       "    .dataframe tbody tr th:only-of-type {\n",
       "        vertical-align: middle;\n",
       "    }\n",
       "\n",
       "    .dataframe tbody tr th {\n",
       "        vertical-align: top;\n",
       "    }\n",
       "\n",
       "    .dataframe thead th {\n",
       "        text-align: right;\n",
       "    }\n",
       "</style>\n",
       "<table border=\"1\" class=\"dataframe\">\n",
       "  <thead>\n",
       "    <tr style=\"text-align: right;\">\n",
       "      <th></th>\n",
       "      <th>Pregnancies</th>\n",
       "      <th>Glucose</th>\n",
       "      <th>BloodPressure</th>\n",
       "      <th>SkinThickness</th>\n",
       "      <th>Insulin</th>\n",
       "      <th>BMI</th>\n",
       "      <th>DiabetesPedigreeFunction</th>\n",
       "      <th>Age</th>\n",
       "      <th>Outcome</th>\n",
       "    </tr>\n",
       "  </thead>\n",
       "  <tbody>\n",
       "    <tr>\n",
       "      <th>0</th>\n",
       "      <td>1</td>\n",
       "      <td>85</td>\n",
       "      <td>66</td>\n",
       "      <td>29</td>\n",
       "      <td>0</td>\n",
       "      <td>26.6</td>\n",
       "      <td>0.351</td>\n",
       "      <td>31</td>\n",
       "      <td>0</td>\n",
       "    </tr>\n",
       "    <tr>\n",
       "      <th>1</th>\n",
       "      <td>8</td>\n",
       "      <td>183</td>\n",
       "      <td>64</td>\n",
       "      <td>0</td>\n",
       "      <td>0</td>\n",
       "      <td>23.3</td>\n",
       "      <td>0.672</td>\n",
       "      <td>32</td>\n",
       "      <td>1</td>\n",
       "    </tr>\n",
       "    <tr>\n",
       "      <th>2</th>\n",
       "      <td>1</td>\n",
       "      <td>89</td>\n",
       "      <td>66</td>\n",
       "      <td>23</td>\n",
       "      <td>94</td>\n",
       "      <td>28.1</td>\n",
       "      <td>0.167</td>\n",
       "      <td>21</td>\n",
       "      <td>0</td>\n",
       "    </tr>\n",
       "    <tr>\n",
       "      <th>3</th>\n",
       "      <td>0</td>\n",
       "      <td>137</td>\n",
       "      <td>40</td>\n",
       "      <td>35</td>\n",
       "      <td>168</td>\n",
       "      <td>43.1</td>\n",
       "      <td>2.288</td>\n",
       "      <td>33</td>\n",
       "      <td>1</td>\n",
       "    </tr>\n",
       "    <tr>\n",
       "      <th>4</th>\n",
       "      <td>5</td>\n",
       "      <td>116</td>\n",
       "      <td>74</td>\n",
       "      <td>0</td>\n",
       "      <td>0</td>\n",
       "      <td>25.6</td>\n",
       "      <td>0.201</td>\n",
       "      <td>30</td>\n",
       "      <td>0</td>\n",
       "    </tr>\n",
       "  </tbody>\n",
       "</table>\n",
       "</div>"
      ],
      "text/plain": [
       "   Pregnancies  Glucose  BloodPressure  SkinThickness  Insulin   BMI  \\\n",
       "0            1       85             66             29        0  26.6   \n",
       "1            8      183             64              0        0  23.3   \n",
       "2            1       89             66             23       94  28.1   \n",
       "3            0      137             40             35      168  43.1   \n",
       "4            5      116             74              0        0  25.6   \n",
       "\n",
       "   DiabetesPedigreeFunction  Age  Outcome  \n",
       "0                     0.351   31        0  \n",
       "1                     0.672   32        1  \n",
       "2                     0.167   21        0  \n",
       "3                     2.288   33        1  \n",
       "4                     0.201   30        0  "
      ]
     },
     "execution_count": 49,
     "metadata": {},
     "output_type": "execute_result"
    }
   ],
   "source": [
    "train_df = df[train_indicator].reset_index(drop=True)\n",
    "train_features = train_df.loc[:, train_df.columns != 'Outcome'].values\n",
    "train_labels = train_df['Outcome'].values\n",
    "train_df.head()"
   ]
  },
  {
   "cell_type": "code",
   "execution_count": 50,
   "metadata": {},
   "outputs": [
    {
     "data": {
      "text/html": [
       "<div>\n",
       "<style scoped>\n",
       "    .dataframe tbody tr th:only-of-type {\n",
       "        vertical-align: middle;\n",
       "    }\n",
       "\n",
       "    .dataframe tbody tr th {\n",
       "        vertical-align: top;\n",
       "    }\n",
       "\n",
       "    .dataframe thead th {\n",
       "        text-align: right;\n",
       "    }\n",
       "</style>\n",
       "<table border=\"1\" class=\"dataframe\">\n",
       "  <thead>\n",
       "    <tr style=\"text-align: right;\">\n",
       "      <th></th>\n",
       "      <th>Pregnancies</th>\n",
       "      <th>Glucose</th>\n",
       "      <th>BloodPressure</th>\n",
       "      <th>SkinThickness</th>\n",
       "      <th>Insulin</th>\n",
       "      <th>BMI</th>\n",
       "      <th>DiabetesPedigreeFunction</th>\n",
       "      <th>Age</th>\n",
       "      <th>Outcome</th>\n",
       "    </tr>\n",
       "  </thead>\n",
       "  <tbody>\n",
       "    <tr>\n",
       "      <th>0</th>\n",
       "      <td>6</td>\n",
       "      <td>148</td>\n",
       "      <td>72</td>\n",
       "      <td>35</td>\n",
       "      <td>0</td>\n",
       "      <td>33.6</td>\n",
       "      <td>0.627</td>\n",
       "      <td>50</td>\n",
       "      <td>1</td>\n",
       "    </tr>\n",
       "    <tr>\n",
       "      <th>1</th>\n",
       "      <td>3</td>\n",
       "      <td>78</td>\n",
       "      <td>50</td>\n",
       "      <td>32</td>\n",
       "      <td>88</td>\n",
       "      <td>31.0</td>\n",
       "      <td>0.248</td>\n",
       "      <td>26</td>\n",
       "      <td>1</td>\n",
       "    </tr>\n",
       "    <tr>\n",
       "      <th>2</th>\n",
       "      <td>10</td>\n",
       "      <td>168</td>\n",
       "      <td>74</td>\n",
       "      <td>0</td>\n",
       "      <td>0</td>\n",
       "      <td>38.0</td>\n",
       "      <td>0.537</td>\n",
       "      <td>34</td>\n",
       "      <td>1</td>\n",
       "    </tr>\n",
       "    <tr>\n",
       "      <th>3</th>\n",
       "      <td>0</td>\n",
       "      <td>118</td>\n",
       "      <td>84</td>\n",
       "      <td>47</td>\n",
       "      <td>230</td>\n",
       "      <td>45.8</td>\n",
       "      <td>0.551</td>\n",
       "      <td>31</td>\n",
       "      <td>1</td>\n",
       "    </tr>\n",
       "    <tr>\n",
       "      <th>4</th>\n",
       "      <td>7</td>\n",
       "      <td>107</td>\n",
       "      <td>74</td>\n",
       "      <td>0</td>\n",
       "      <td>0</td>\n",
       "      <td>29.6</td>\n",
       "      <td>0.254</td>\n",
       "      <td>31</td>\n",
       "      <td>1</td>\n",
       "    </tr>\n",
       "  </tbody>\n",
       "</table>\n",
       "</div>"
      ],
      "text/plain": [
       "   Pregnancies  Glucose  BloodPressure  SkinThickness  Insulin   BMI  \\\n",
       "0            6      148             72             35        0  33.6   \n",
       "1            3       78             50             32       88  31.0   \n",
       "2           10      168             74              0        0  38.0   \n",
       "3            0      118             84             47      230  45.8   \n",
       "4            7      107             74              0        0  29.6   \n",
       "\n",
       "   DiabetesPedigreeFunction  Age  Outcome  \n",
       "0                     0.627   50        1  \n",
       "1                     0.248   26        1  \n",
       "2                     0.537   34        1  \n",
       "3                     0.551   31        1  \n",
       "4                     0.254   31        1  "
      ]
     },
     "execution_count": 50,
     "metadata": {},
     "output_type": "execute_result"
    }
   ],
   "source": [
    "eval_df = df[eval_indicator].reset_index(drop=True)\n",
    "eval_features = eval_df.loc[:, eval_df.columns != 'Outcome'].values\n",
    "eval_labels = eval_df['Outcome'].values\n",
    "eval_df.head()"
   ]
  },
  {
   "cell_type": "code",
   "execution_count": 51,
   "metadata": {},
   "outputs": [
    {
     "data": {
      "text/plain": [
       "((614, 8), (614,), (154, 8), (154,))"
      ]
     },
     "execution_count": 51,
     "metadata": {},
     "output_type": "execute_result"
    }
   ],
   "source": [
    "train_features.shape, train_labels.shape, eval_features.shape, eval_labels.shape"
   ]
  },
  {
   "cell_type": "markdown",
   "metadata": {},
   "source": [
    "## 0.2 Pre-processing The Data"
   ]
  },
  {
   "cell_type": "markdown",
   "metadata": {},
   "source": [
    "Some of the columns exhibit missing values. We will use a Naive Bayes Classifier later that will treat such missing values in a special way.  To be specific, for attribute 3 (Diastolic blood pressure), attribute 4 (Triceps skin fold thickness), attribute 6 (Body mass index), and attribute 8 (Age), we should regard a value of 0 as a missing value.\n",
    "\n",
    "Therefore, we will be creating the `train_featues_with_nans` and `eval_features_with_nans` numpy arrays to be just like their `train_features` and `eval_features` counter-parts, but with the zero-values in such columns replaced with nans."
   ]
  },
  {
   "cell_type": "code",
   "execution_count": 52,
   "metadata": {},
   "outputs": [],
   "source": [
    "train_df_with_nans = train_df.copy(deep=True)\n",
    "eval_df_with_nans = eval_df.copy(deep=True)\n",
    "for col_with_nans in ['BloodPressure', 'SkinThickness', 'BMI', 'Age']:\n",
    "    train_df_with_nans[col_with_nans] = train_df_with_nans[col_with_nans].replace(0, np.nan)\n",
    "    eval_df_with_nans[col_with_nans] = eval_df_with_nans[col_with_nans].replace(0, np.nan)\n",
    "train_features_with_nans = train_df_with_nans.loc[:, train_df_with_nans.columns != 'Outcome'].values\n",
    "eval_features_with_nans = eval_df_with_nans.loc[:, eval_df_with_nans.columns != 'Outcome'].values"
   ]
  },
  {
   "cell_type": "code",
   "execution_count": 53,
   "metadata": {},
   "outputs": [
    {
     "name": "stdout",
     "output_type": "stream",
     "text": [
      "Here are the training rows with at least one missing values.\n",
      "\n",
      "You can see that such incomplete data points constitute a substantial part of the data.\n",
      "\n"
     ]
    },
    {
     "data": {
      "text/html": [
       "<div>\n",
       "<style scoped>\n",
       "    .dataframe tbody tr th:only-of-type {\n",
       "        vertical-align: middle;\n",
       "    }\n",
       "\n",
       "    .dataframe tbody tr th {\n",
       "        vertical-align: top;\n",
       "    }\n",
       "\n",
       "    .dataframe thead th {\n",
       "        text-align: right;\n",
       "    }\n",
       "</style>\n",
       "<table border=\"1\" class=\"dataframe\">\n",
       "  <thead>\n",
       "    <tr style=\"text-align: right;\">\n",
       "      <th></th>\n",
       "      <th>Pregnancies</th>\n",
       "      <th>Glucose</th>\n",
       "      <th>BloodPressure</th>\n",
       "      <th>SkinThickness</th>\n",
       "      <th>Insulin</th>\n",
       "      <th>BMI</th>\n",
       "      <th>DiabetesPedigreeFunction</th>\n",
       "      <th>Age</th>\n",
       "      <th>Outcome</th>\n",
       "    </tr>\n",
       "  </thead>\n",
       "  <tbody>\n",
       "    <tr>\n",
       "      <th>1</th>\n",
       "      <td>8</td>\n",
       "      <td>183</td>\n",
       "      <td>64.0</td>\n",
       "      <td>NaN</td>\n",
       "      <td>0</td>\n",
       "      <td>23.3</td>\n",
       "      <td>0.672</td>\n",
       "      <td>32</td>\n",
       "      <td>1</td>\n",
       "    </tr>\n",
       "    <tr>\n",
       "      <th>4</th>\n",
       "      <td>5</td>\n",
       "      <td>116</td>\n",
       "      <td>74.0</td>\n",
       "      <td>NaN</td>\n",
       "      <td>0</td>\n",
       "      <td>25.6</td>\n",
       "      <td>0.201</td>\n",
       "      <td>30</td>\n",
       "      <td>0</td>\n",
       "    </tr>\n",
       "    <tr>\n",
       "      <th>5</th>\n",
       "      <td>10</td>\n",
       "      <td>115</td>\n",
       "      <td>NaN</td>\n",
       "      <td>NaN</td>\n",
       "      <td>0</td>\n",
       "      <td>35.3</td>\n",
       "      <td>0.134</td>\n",
       "      <td>29</td>\n",
       "      <td>0</td>\n",
       "    </tr>\n",
       "    <tr>\n",
       "      <th>7</th>\n",
       "      <td>8</td>\n",
       "      <td>125</td>\n",
       "      <td>96.0</td>\n",
       "      <td>NaN</td>\n",
       "      <td>0</td>\n",
       "      <td>NaN</td>\n",
       "      <td>0.232</td>\n",
       "      <td>54</td>\n",
       "      <td>1</td>\n",
       "    </tr>\n",
       "    <tr>\n",
       "      <th>8</th>\n",
       "      <td>4</td>\n",
       "      <td>110</td>\n",
       "      <td>92.0</td>\n",
       "      <td>NaN</td>\n",
       "      <td>0</td>\n",
       "      <td>37.6</td>\n",
       "      <td>0.191</td>\n",
       "      <td>30</td>\n",
       "      <td>0</td>\n",
       "    </tr>\n",
       "    <tr>\n",
       "      <th>...</th>\n",
       "      <td>...</td>\n",
       "      <td>...</td>\n",
       "      <td>...</td>\n",
       "      <td>...</td>\n",
       "      <td>...</td>\n",
       "      <td>...</td>\n",
       "      <td>...</td>\n",
       "      <td>...</td>\n",
       "      <td>...</td>\n",
       "    </tr>\n",
       "    <tr>\n",
       "      <th>598</th>\n",
       "      <td>6</td>\n",
       "      <td>162</td>\n",
       "      <td>62.0</td>\n",
       "      <td>NaN</td>\n",
       "      <td>0</td>\n",
       "      <td>24.3</td>\n",
       "      <td>0.178</td>\n",
       "      <td>50</td>\n",
       "      <td>1</td>\n",
       "    </tr>\n",
       "    <tr>\n",
       "      <th>599</th>\n",
       "      <td>4</td>\n",
       "      <td>136</td>\n",
       "      <td>70.0</td>\n",
       "      <td>NaN</td>\n",
       "      <td>0</td>\n",
       "      <td>31.2</td>\n",
       "      <td>1.182</td>\n",
       "      <td>22</td>\n",
       "      <td>1</td>\n",
       "    </tr>\n",
       "    <tr>\n",
       "      <th>605</th>\n",
       "      <td>1</td>\n",
       "      <td>106</td>\n",
       "      <td>76.0</td>\n",
       "      <td>NaN</td>\n",
       "      <td>0</td>\n",
       "      <td>37.5</td>\n",
       "      <td>0.197</td>\n",
       "      <td>26</td>\n",
       "      <td>0</td>\n",
       "    </tr>\n",
       "    <tr>\n",
       "      <th>606</th>\n",
       "      <td>6</td>\n",
       "      <td>190</td>\n",
       "      <td>92.0</td>\n",
       "      <td>NaN</td>\n",
       "      <td>0</td>\n",
       "      <td>35.5</td>\n",
       "      <td>0.278</td>\n",
       "      <td>66</td>\n",
       "      <td>1</td>\n",
       "    </tr>\n",
       "    <tr>\n",
       "      <th>612</th>\n",
       "      <td>1</td>\n",
       "      <td>126</td>\n",
       "      <td>60.0</td>\n",
       "      <td>NaN</td>\n",
       "      <td>0</td>\n",
       "      <td>30.1</td>\n",
       "      <td>0.349</td>\n",
       "      <td>47</td>\n",
       "      <td>1</td>\n",
       "    </tr>\n",
       "  </tbody>\n",
       "</table>\n",
       "<p>186 rows × 9 columns</p>\n",
       "</div>"
      ],
      "text/plain": [
       "     Pregnancies  Glucose  BloodPressure  SkinThickness  Insulin   BMI  \\\n",
       "1              8      183           64.0            NaN        0  23.3   \n",
       "4              5      116           74.0            NaN        0  25.6   \n",
       "5             10      115            NaN            NaN        0  35.3   \n",
       "7              8      125           96.0            NaN        0   NaN   \n",
       "8              4      110           92.0            NaN        0  37.6   \n",
       "..           ...      ...            ...            ...      ...   ...   \n",
       "598            6      162           62.0            NaN        0  24.3   \n",
       "599            4      136           70.0            NaN        0  31.2   \n",
       "605            1      106           76.0            NaN        0  37.5   \n",
       "606            6      190           92.0            NaN        0  35.5   \n",
       "612            1      126           60.0            NaN        0  30.1   \n",
       "\n",
       "     DiabetesPedigreeFunction  Age  Outcome  \n",
       "1                       0.672   32        1  \n",
       "4                       0.201   30        0  \n",
       "5                       0.134   29        0  \n",
       "7                       0.232   54        1  \n",
       "8                       0.191   30        0  \n",
       "..                        ...  ...      ...  \n",
       "598                     0.178   50        1  \n",
       "599                     1.182   22        1  \n",
       "605                     0.197   26        0  \n",
       "606                     0.278   66        1  \n",
       "612                     0.349   47        1  \n",
       "\n",
       "[186 rows x 9 columns]"
      ]
     },
     "execution_count": 53,
     "metadata": {},
     "output_type": "execute_result"
    }
   ],
   "source": [
    "print('Here are the training rows with at least one missing values.')\n",
    "print('')\n",
    "print('You can see that such incomplete data points constitute a substantial part of the data.')\n",
    "print('')\n",
    "nan_training_data = train_df_with_nans[train_df_with_nans.isna().any(axis=1)]\n",
    "nan_training_data"
   ]
  },
  {
   "cell_type": "markdown",
   "metadata": {},
   "source": [
    "# 1. Part 1 (Building a simple Naive Bayes Classifier)"
   ]
  },
  {
   "cell_type": "markdown",
   "metadata": {},
   "source": [
    "Consider a single sample $(\\mathbf{x}, y)$, where the feature vector is denoted with $\\mathbf{x}$, and the label is denoted with $y$. We will also denote the $j^{th}$ feature of $\\mathbf{x}$ with $x^{(j)}$.\n",
    "\n",
    "According to the textbook, the Naive Bayes Classifier uses the following decision rule:\n",
    "\n",
    "\"Choose $y$ such that $$\\bigg[\\log p(y) + \\sum_{j} \\log p(x^{(j)}|y) \\bigg]$$ is the largest\"\n",
    "\n",
    "However, we first need to define the probabilistic models of the prior $p(y)$ and the class-conditional feature distributions $p(x^{(j)}|y)$ using the training data.\n",
    "\n",
    "* **Modelling the prior $p(y)$**: We fit a Bernoulli distribution to the `Outcome` variable of `train_df`.\n",
    "* **Modelling the class-conditional feature distributions $p(x^{(j)}|y)$**: We fit Gaussian distributions, and infer the Gaussian mean and variance parameters from `train_df`."
   ]
  },
  {
   "cell_type": "markdown",
   "metadata": {},
   "source": [
    "# <span style=\"color:blue\">Task 1</span>"
   ]
  },
  {
   "cell_type": "markdown",
   "metadata": {},
   "source": [
    "Write a function `log_prior` that takes a numpy array `train_labels` as input, and outputs the following vector as a column numpy array (i.e., with shape $(2,1)$).\n",
    "\n",
    "$$\\log p_y =\\begin{bmatrix}\\log p(y=0)\\\\\\log p(y=1)\\end{bmatrix}$$\n",
    "\n",
    "Try and avoid the utilization of loops as much as possible. No loops are necessary.\n",
    "\n",
    "**Hint**: Make sure all the array shapes are what you need and expect. You can reshape any numpy array without any tangible computational over-head."
   ]
  },
  {
   "cell_type": "code",
   "execution_count": 54,
   "metadata": {
    "deletable": false,
    "nbgrader": {
     "cell_type": "code",
     "checksum": "071dcd7013b592e1fc344ddc31bedc4e",
     "grade": false,
     "grade_id": "cell-540952d95c213032",
     "locked": false,
     "schema_version": 3,
     "solution": true,
     "task": false
    }
   },
   "outputs": [],
   "source": [
    "def log_prior(train_labels):\n",
    "    \n",
    "    # your code here\n",
    "    num0 = 0\n",
    "    num1 = 0\n",
    "    for label in train_labels:\n",
    "        if label == 0:\n",
    "            num0 += 1\n",
    "        else:\n",
    "            num1 += 1\n",
    "    log_py = np.log([[num0/len(train_labels)],[num1/len(train_labels)]])\n",
    "    \n",
    "    assert log_py.shape == (2,1)\n",
    "    \n",
    "    return log_py"
   ]
  },
  {
   "cell_type": "code",
   "execution_count": 55,
   "metadata": {
    "deletable": false,
    "editable": false,
    "nbgrader": {
     "cell_type": "code",
     "checksum": "20d512227df8d765b37255ebdca0bbde",
     "grade": true,
     "grade_id": "cell-7c3e85395bcc5892",
     "locked": true,
     "points": 1,
     "schema_version": 3,
     "solution": false,
     "task": false
    }
   },
   "outputs": [],
   "source": [
    "some_labels = np.array([0, 1, 0, 1, 0, 0, 1, 1, 0, 0, 1, 1, 1, 1, 0, 0, 1, 1, 1, 1])\n",
    "some_log_py = log_prior(some_labels)\n",
    "assert np.array_equal(some_log_py.round(3), np.array([[-0.916], [-0.511]]))\n",
    "\n",
    "# Checking against the pre-computed test database\n",
    "test_results = test_case_checker(log_prior, task_id=1)\n",
    "assert test_results['passed'], test_results['message']"
   ]
  },
  {
   "cell_type": "code",
   "execution_count": 56,
   "metadata": {},
   "outputs": [
    {
     "data": {
      "text/plain": [
       "array([[-0.41610786],\n",
       "       [-1.07766068]])"
      ]
     },
     "execution_count": 56,
     "metadata": {},
     "output_type": "execute_result"
    }
   ],
   "source": [
    "log_py = log_prior(train_labels)\n",
    "log_py"
   ]
  },
  {
   "cell_type": "markdown",
   "metadata": {},
   "source": [
    "# <span style=\"color:blue\">Task 2</span>"
   ]
  },
  {
   "cell_type": "markdown",
   "metadata": {},
   "source": [
    "Write a function `cc_mean_ignore_missing` that takes the numpy arrays `train_features` and `train_labels` as input, and outputs the following matrix with the shape $(8,2)$, where 8 is the number of features.\n",
    "\n",
    "$$\\mu_y = \\begin{bmatrix} \\mathbb{E}[x^{(0)}|y=0] & \\mathbb{E}[x^{(0)}|y=1]\\\\\n",
    "\\mathbb{E}[x^{(1)}|y=0] & \\mathbb{E}[x^{(1)}|y=1] \\\\\n",
    "\\cdots & \\cdots\\\\\n",
    "\\mathbb{E}[x^{(7)}|y=0] & \\mathbb{E}[x^{(7)}|y=1]\\end{bmatrix}$$\n",
    "\n",
    "Some points regarding this task:\n",
    "\n",
    "* The `train_features` numpy array has a shape of `(N,8)` where `N` is the number of training data points, and 8 is the number of the features. \n",
    "\n",
    "* The `train_labels` numpy array has a shape of `(N,)`. \n",
    "\n",
    "* **You can assume that `train_features` has no missing elements in this task**.\n",
    "\n",
    "* Try and avoid the utilization of loops as much as possible. No loops are necessary."
   ]
  },
  {
   "cell_type": "code",
   "execution_count": 57,
   "metadata": {
    "deletable": false,
    "nbgrader": {
     "cell_type": "code",
     "checksum": "48bacfdecfbecc35ccca01e2e264d3ef",
     "grade": false,
     "grade_id": "cell-9482e9412e53e401",
     "locked": false,
     "schema_version": 3,
     "solution": true,
     "task": false
    }
   },
   "outputs": [],
   "source": [
    "def cc_mean_ignore_missing(train_features, train_labels):\n",
    "    N, d = train_features.shape\n",
    "    \n",
    "    # your code here\n",
    "    pos = np.sum(train_labels)\n",
    "    neg = N - pos\n",
    "    train_labels = train_labels.reshape(-1,1)\n",
    "    \n",
    "    positives = train_features * train_labels\n",
    "    train_opps = (train_labels == 0)\n",
    "    pos_avgs = np.sum(positives, axis=0) / pos\n",
    "    pos_avgs = pos_avgs.reshape(-1,1)\n",
    "    \n",
    "    negatives = train_features * train_opps\n",
    "    neg_avgs = np.sum(negatives, axis=0) / neg\n",
    "    neg_avgs = neg_avgs.reshape(-1,1)\n",
    "    \n",
    "    mu_y = np.hstack((neg_avgs, pos_avgs))\n",
    "    assert mu_y.shape == (d, 2)\n",
    "    return mu_y"
   ]
  },
  {
   "cell_type": "code",
   "execution_count": 58,
   "metadata": {
    "deletable": false,
    "editable": false,
    "nbgrader": {
     "cell_type": "code",
     "checksum": "af330da15d19ecdf406ae2d28bbf3a36",
     "grade": true,
     "grade_id": "cell-f3045a00bb2c1146",
     "locked": true,
     "points": 1,
     "schema_version": 3,
     "solution": false,
     "task": false
    }
   },
   "outputs": [],
   "source": [
    "some_feats = np.array([[  1. ,  85. ,  66. ,  29. ,   0. ,  26.6,   0.4,  31. ],\n",
    "                       [  8. , 183. ,  64. ,   0. ,   0. ,  23.3,   0.7,  32. ],\n",
    "                       [  1. ,  89. ,  66. ,  23. ,  94. ,  28.1,   0.2,  21. ],\n",
    "                       [  0. , 137. ,  40. ,  35. , 168. ,  43.1,   2.3,  33. ],\n",
    "                       [  5. , 116. ,  74. ,   0. ,   0. ,  25.6,   0.2,  30. ]])\n",
    "some_labels = np.array([0, 1, 0, 1, 0])\n",
    "\n",
    "some_mu_y = cc_mean_ignore_missing(some_feats, some_labels)\n",
    "\n",
    "assert np.array_equal(some_mu_y.round(2), np.array([[  2.33,   4.  ],\n",
    "                                                    [ 96.67, 160.  ],\n",
    "                                                    [ 68.67,  52.  ],\n",
    "                                                    [ 17.33,  17.5 ],\n",
    "                                                    [ 31.33,  84.  ],\n",
    "                                                    [ 26.77,  33.2 ],\n",
    "                                                    [  0.27,   1.5 ],\n",
    "                                                    [ 27.33,  32.5 ]]))\n",
    "\n",
    "# Checking against the pre-computed test database\n",
    "test_results = test_case_checker(cc_mean_ignore_missing, task_id=2)\n",
    "assert test_results['passed'], test_results['message']"
   ]
  },
  {
   "cell_type": "code",
   "execution_count": 59,
   "metadata": {},
   "outputs": [
    {
     "data": {
      "text/plain": [
       "array([[  3.48641975,   4.91866029],\n",
       "       [109.99753086, 142.30143541],\n",
       "       [ 68.77037037,  70.66028708],\n",
       "       [ 19.51358025,  21.97129187],\n",
       "       [ 66.25679012, 100.55980861],\n",
       "       [ 30.31703704,  35.1492823 ],\n",
       "       [  0.42825926,   0.55279904],\n",
       "       [ 31.57283951,  37.39712919]])"
      ]
     },
     "execution_count": 59,
     "metadata": {},
     "output_type": "execute_result"
    }
   ],
   "source": [
    "mu_y = cc_mean_ignore_missing(train_features, train_labels)\n",
    "mu_y"
   ]
  },
  {
   "cell_type": "markdown",
   "metadata": {},
   "source": [
    "# <span style=\"color:blue\">Task 3</span>"
   ]
  },
  {
   "cell_type": "markdown",
   "metadata": {},
   "source": [
    "Write a function `cc_std_ignore_missing` that takes the numpy arrays `train_features` and `train_labels` as input, and outputs the following matrix with the shape $(8,2)$, where 8 is the number of features.\n",
    "\n",
    "$$\\sigma_y = \\begin{bmatrix} \\text{std}[x^{(0)}|y=0] & \\text{std}[x^{(0)}|y=1]\\\\\n",
    "\\text{std}[x^{(1)}|y=0] & \\text{std}[x^{(1)}|y=1] \\\\\n",
    "\\cdots & \\cdots\\\\\n",
    "\\text{std}[x^{(7)}|y=0] & \\text{std}[x^{(7)}|y=1]\\end{bmatrix}$$\n",
    "\n",
    "Some points regarding this task:\n",
    "\n",
    "* The `train_features` numpy array has a shape of `(N,8)` where `N` is the number of training data points, and 8 is the number of the features. \n",
    "\n",
    "* The `train_labels` numpy array has a shape of `(N,)`. \n",
    "\n",
    "* **You can assume that `train_features` has no missing elements in this task**.\n",
    "\n",
    "* Try and avoid the utilization of loops as much as possible. No loops are necessary."
   ]
  },
  {
   "cell_type": "code",
   "execution_count": 60,
   "metadata": {
    "deletable": false,
    "nbgrader": {
     "cell_type": "code",
     "checksum": "865730f8532366280665d029bc3b2ce5",
     "grade": false,
     "grade_id": "cell-410ce572204e37df",
     "locked": false,
     "schema_version": 3,
     "solution": true,
     "task": false
    }
   },
   "outputs": [],
   "source": [
    "def cc_std_ignore_missing(train_features, train_labels):\n",
    "    N, d = train_features.shape\n",
    "    \n",
    "    # your code here\n",
    "    positive_rows = train_labels == 1\n",
    "    negative_rows = train_labels == 0\n",
    "    positives = train_features[positive_rows,:]\n",
    "    negatives = train_features[negative_rows,:]\n",
    "\n",
    "    pos = np.std(positives, axis = 0)\n",
    "    neg = np.std(negatives, axis = 0)\n",
    "    sigma_y = np.column_stack((neg, pos))\n",
    "    assert sigma_y.shape == (d, 2)\n",
    "    return sigma_y"
   ]
  },
  {
   "cell_type": "code",
   "execution_count": 61,
   "metadata": {
    "deletable": false,
    "editable": false,
    "nbgrader": {
     "cell_type": "code",
     "checksum": "1d389f545cb36b2404ec6069b0d5801a",
     "grade": true,
     "grade_id": "cell-d91cfef7c658f962",
     "locked": true,
     "points": 1,
     "schema_version": 3,
     "solution": false,
     "task": false
    }
   },
   "outputs": [],
   "source": [
    "some_feats = np.array([[  1. ,  85. ,  66. ,  29. ,   0. ,  26.6,   0.4,  31. ],\n",
    "                       [  8. , 183. ,  64. ,   0. ,   0. ,  23.3,   0.7,  32. ],\n",
    "                       [  1. ,  89. ,  66. ,  23. ,  94. ,  28.1,   0.2,  21. ],\n",
    "                       [  0. , 137. ,  40. ,  35. , 168. ,  43.1,   2.3,  33. ],\n",
    "                       [  5. , 116. ,  74. ,   0. ,   0. ,  25.6,   0.2,  30. ]])\n",
    "some_labels = np.array([0, 1, 0, 1, 0])\n",
    "\n",
    "some_std_y = cc_std_ignore_missing(some_feats, some_labels)\n",
    "\n",
    "assert np.array_equal(some_std_y.round(3), np.array([[ 1.886,  4.   ],\n",
    "                                                     [13.768, 23.   ],\n",
    "                                                     [ 3.771, 12.   ],\n",
    "                                                     [12.499, 17.5  ],\n",
    "                                                     [44.312, 84.   ],\n",
    "                                                     [ 1.027,  9.9  ],\n",
    "                                                     [ 0.094,  0.8  ],\n",
    "                                                     [ 4.497,  0.5  ]]))\n",
    "\n",
    "# Checking against the pre-computed test database\n",
    "test_results = test_case_checker(cc_std_ignore_missing, task_id=3)\n",
    "assert test_results['passed'], test_results['message']"
   ]
  },
  {
   "cell_type": "code",
   "execution_count": 62,
   "metadata": {},
   "outputs": [
    {
     "data": {
      "text/plain": [
       "array([[  3.1155426 ,   3.75417931],\n",
       "       [ 25.96811899,  32.50910874],\n",
       "       [ 18.07540068,  21.69568568],\n",
       "       [ 15.02320635,  17.21685884],\n",
       "       [ 95.63339586, 139.24364214],\n",
       "       [  7.50030986,   6.6625219 ],\n",
       "       [  0.29438217,   0.37201494],\n",
       "       [ 11.67577435,  11.01543899]])"
      ]
     },
     "execution_count": 62,
     "metadata": {},
     "output_type": "execute_result"
    }
   ],
   "source": [
    "sigma_y = cc_std_ignore_missing(train_features, train_labels)\n",
    "sigma_y"
   ]
  },
  {
   "cell_type": "markdown",
   "metadata": {},
   "source": [
    "# <span style=\"color:blue\">Task 4</span>"
   ]
  },
  {
   "cell_type": "markdown",
   "metadata": {},
   "source": [
    "Write a function `log_prob` that takes the numpy arrays `train_features`, $\\mu_y$, $\\sigma_y$, and  $\\log p_y$ as input, and outputs the following matrix with the shape $(N, 2)$\n",
    "\n",
    "$$\\log p_{x,y} = \\begin{bmatrix} \\bigg[\\log p(y=0) + \\sum_{j=0}^{7} \\log p(x_1^{(j)}|y=0) \\bigg] & \\bigg[\\log p(y=1) + \\sum_{j=0}^{7} \\log p(x_1^{(j)}|y=1) \\bigg] \\\\\n",
    "\\bigg[\\log p(y=0) + \\sum_{j=0}^{7} \\log p(x_2^{(j)}|y=0) \\bigg] & \\bigg[\\log p(y=1) + \\sum_{j=0}^{7} \\log p(x_2^{(j)}|y=1) \\bigg] \\\\\n",
    "\\cdots & \\cdots \\\\\n",
    "\\bigg[\\log p(y=0) + \\sum_{j=0}^{7} \\log p(x_N^{(j)}|y=0) \\bigg] & \\bigg[\\log p(y=1) + \\sum_{j=0}^{7} \\log p(x_N^{(j)}|y=1) \\bigg] \\\\\n",
    "\\end{bmatrix}$$\n",
    "\n",
    "where\n",
    "* $N$ is the number of training data points.\n",
    "* $x_i$ is the $i^{th}$ training data point.\n",
    "\n",
    "Try and avoid the utilization of loops as much as possible. No loops are necessary."
   ]
  },
  {
   "cell_type": "markdown",
   "metadata": {},
   "source": [
    "**Hint**: Remember that we are modelling $p(x_i^{(j)}|y)$ with a Gaussian whose parameters are defined inside $\\mu_y$ and $\\sigma_y$. Write the Gaussian PDF expression and take its natural log **on paper**, then implement it.\n",
    "\n",
    "**Important Note**: Do not use third-party and non-standard implementations for computing $\\log p(x_i^{(j)}|y)$. Using functions that find the Gaussian PDF, and then taking their log is **numerically unstable**; the Gaussian PDF values can easily become extremely small numbers that cannot be represented using floating point standards and thus would be stored as zero. Taking the log of a zero value will throw an error. On the other hand, it is unnecessary to compute and store $p(x_i^{(j)}|y)$ in order to find $\\log p(x_i^{(j)}|y)$; you can write $\\log p(x_i^{(j)}|y)$ as a direct function of $\\mu_y$, $\\sigma_y$ and the features. This latter approach is numerically stable, and can be applied when the PDF values are much smaller than could be stored using the common standards."
   ]
  },
  {
   "cell_type": "code",
   "execution_count": 63,
   "metadata": {
    "deletable": false,
    "nbgrader": {
     "cell_type": "code",
     "checksum": "335f5b8746a99280ca50e0d2dbca5375",
     "grade": false,
     "grade_id": "cell-773a3cddb6c45cf8",
     "locked": false,
     "schema_version": 3,
     "solution": true,
     "task": false
    }
   },
   "outputs": [],
   "source": [
    "def log_prob(features, mu_y, sigma_y, log_py):\n",
    "    N, d = features.shape\n",
    "    \n",
    "    # your code here\n",
    "    part1 = np.sum(np.log(1 / (sigma_y.T * (np.sqrt(2 * np.pi)))), axis = 1)\n",
    "    part2_neg = np.power(features - mu_y.T[0,:],2) / (2* np.power( sigma_y.T[0,:],2))    \n",
    "    log_neg = np.sum(part2_neg, axis=1)\n",
    "    log_neg -= part1[0] + log_py[0]\n",
    "    part2_pos = np.power(features - mu_y.T[1,:],2) / (2* np.power( sigma_y.T[1,:],2))    \n",
    "    log_pos = np.sum(part2_pos, axis=1)\n",
    "    log_pos -= part1[1] + log_py[1]\n",
    "    log_p_x_y = -np.column_stack((log_neg, log_pos))\n",
    "    \n",
    "    assert log_p_x_y.shape == (N,2)\n",
    "    return log_p_x_y"
   ]
  },
  {
   "cell_type": "code",
   "execution_count": 64,
   "metadata": {
    "deletable": false,
    "editable": false,
    "nbgrader": {
     "cell_type": "code",
     "checksum": "372496f883a755a2b19cd88b06cab33a",
     "grade": true,
     "grade_id": "cell-a8c2e2a5d88902b0",
     "locked": true,
     "points": 1,
     "schema_version": 3,
     "solution": false,
     "task": false
    }
   },
   "outputs": [],
   "source": [
    "some_feats = np.array([[  1. ,  85. ,  66. ,  29. ,   0. ,  26.6,   0.4,  31. ],\n",
    "                       [  8. , 183. ,  64. ,   0. ,   0. ,  23.3,   0.7,  32. ],\n",
    "                       [  1. ,  89. ,  66. ,  23. ,  94. ,  28.1,   0.2,  21. ],\n",
    "                       [  0. , 137. ,  40. ,  35. , 168. ,  43.1,   2.3,  33. ],\n",
    "                       [  5. , 116. ,  74. ,   0. ,   0. ,  25.6,   0.2,  30. ]])\n",
    "some_labels = np.array([0, 1, 0, 1, 0])\n",
    "\n",
    "some_mu_y = cc_mean_ignore_missing(some_feats, some_labels)\n",
    "some_std_y = cc_std_ignore_missing(some_feats, some_labels)\n",
    "some_log_py = log_prior(some_labels)\n",
    "\n",
    "some_log_p_x_y = log_prob(some_feats, some_mu_y, some_std_y, some_log_py)\n",
    "\n",
    "assert np.array_equal(some_log_p_x_y.round(3), np.array([[ -20.822,  -36.606],\n",
    "                                                         [ -60.879,  -27.944],\n",
    "                                                         [ -21.774, -295.68 ],\n",
    "                                                         [-417.359,  -27.944],\n",
    "                                                         [ -23.2  ,  -42.6  ]]))\n",
    "\n",
    "# Checking against the pre-computed test database\n",
    "test_results = test_case_checker(log_prob, task_id=4)\n",
    "assert test_results['passed'], test_results['message']"
   ]
  },
  {
   "cell_type": "code",
   "execution_count": 65,
   "metadata": {},
   "outputs": [
    {
     "data": {
      "text/plain": [
       "array([[-26.96647828, -31.00418408],\n",
       "       [-32.4755447 , -31.39530914],\n",
       "       [-27.14875996, -31.51999532],\n",
       "       ...,\n",
       "       [-26.29368771, -29.09161966],\n",
       "       [-28.19432943, -30.08324788],\n",
       "       [-26.98605248, -30.80571318]])"
      ]
     },
     "execution_count": 65,
     "metadata": {},
     "output_type": "execute_result"
    }
   ],
   "source": [
    "log_p_x_y = log_prob(train_features, mu_y, sigma_y, log_py)\n",
    "log_p_x_y"
   ]
  },
  {
   "cell_type": "markdown",
   "metadata": {},
   "source": [
    "## 1.1. Writing the Simple Naive Bayes Classifier"
   ]
  },
  {
   "cell_type": "code",
   "execution_count": 66,
   "metadata": {},
   "outputs": [],
   "source": [
    "class NBClassifier():\n",
    "    def __init__(self, train_features, train_labels):\n",
    "        self.train_features = train_features\n",
    "        self.train_labels = train_labels\n",
    "        self.log_py = log_prior(train_labels)\n",
    "        self.mu_y = self.get_cc_means()\n",
    "        self.sigma_y = self.get_cc_std()\n",
    "        \n",
    "    def get_cc_means(self):\n",
    "        mu_y = cc_mean_ignore_missing(self.train_features, self.train_labels)\n",
    "        return mu_y\n",
    "    \n",
    "    def get_cc_std(self):\n",
    "        sigma_y = cc_std_ignore_missing(self.train_features, self.train_labels)\n",
    "        return sigma_y\n",
    "    \n",
    "    def predict(self, features):\n",
    "        log_p_x_y = log_prob(features, mu_y, sigma_y, log_py)\n",
    "        return log_p_x_y.argmax(axis=1)"
   ]
  },
  {
   "cell_type": "code",
   "execution_count": 67,
   "metadata": {},
   "outputs": [],
   "source": [
    "diabetes_classifier = NBClassifier(train_features, train_labels)\n",
    "train_pred = diabetes_classifier.predict(train_features)\n",
    "eval_pred = diabetes_classifier.predict(eval_features)"
   ]
  },
  {
   "cell_type": "code",
   "execution_count": 68,
   "metadata": {},
   "outputs": [
    {
     "name": "stdout",
     "output_type": "stream",
     "text": [
      "The training data accuracy of your trained model is 0.7671009771986971\n",
      "The evaluation data accuracy of your trained model is 0.7532467532467533\n"
     ]
    }
   ],
   "source": [
    "train_acc = (train_pred==train_labels).mean()\n",
    "eval_acc = (eval_pred==eval_labels).mean()\n",
    "print(f'The training data accuracy of your trained model is {train_acc}')\n",
    "print(f'The evaluation data accuracy of your trained model is {eval_acc}')"
   ]
  },
  {
   "cell_type": "markdown",
   "metadata": {},
   "source": [
    "## 1.2 Running an off-the-shelf implementation of Naive-Bayes For Comparison"
   ]
  },
  {
   "cell_type": "code",
   "execution_count": 69,
   "metadata": {},
   "outputs": [
    {
     "name": "stdout",
     "output_type": "stream",
     "text": [
      "The training data accuracy of your trained model is 0.7671009771986971\n",
      "The evaluation data accuracy of your trained model is 0.7532467532467533\n"
     ]
    }
   ],
   "source": [
    "from sklearn.naive_bayes import GaussianNB\n",
    "gnb = GaussianNB().fit(train_features, train_labels)\n",
    "train_pred_sk = gnb.predict(train_features)\n",
    "eval_pred_sk = gnb.predict(eval_features)\n",
    "print(f'The training data accuracy of your trained model is {(train_pred_sk == train_labels).mean()}')\n",
    "print(f'The evaluation data accuracy of your trained model is {(eval_pred_sk == eval_labels).mean()}')"
   ]
  },
  {
   "cell_type": "markdown",
   "metadata": {},
   "source": [
    "# Part 2 (Building a Naive Bayes Classifier Considering Missing Entries)"
   ]
  },
  {
   "cell_type": "markdown",
   "metadata": {},
   "source": [
    "In this part, we will modify some of the parameter inference functions of the Naive Bayes classifier to make it able to ignore the NaN entries when inferring the Gaussian mean and stds."
   ]
  },
  {
   "cell_type": "markdown",
   "metadata": {},
   "source": [
    "# <span style=\"color:blue\">Task 5</span>"
   ]
  },
  {
   "cell_type": "markdown",
   "metadata": {},
   "source": [
    "Write a function `cc_mean_consider_missing` that\n",
    "* has exactly the same input and output types as the `cc_mean_ignore_missing` function,\n",
    "* and has similar functionality to `cc_mean_ignore_missing` except that it can handle and ignore the NaN entries when computing the class conditional means.\n",
    "\n",
    "You can borrow most of the code from your `cc_mean_ignore_missing` implementation, but you should make it compatible with the existence of NaN values in the features.\n",
    "\n",
    "Try and avoid the utilization of loops as much as possible. No loops are necessary."
   ]
  },
  {
   "cell_type": "markdown",
   "metadata": {},
   "source": [
    "* **Hint**: You may find the `np.nanmean` function useful."
   ]
  },
  {
   "cell_type": "code",
   "execution_count": 70,
   "metadata": {
    "deletable": false,
    "nbgrader": {
     "cell_type": "code",
     "checksum": "ed57e96c9d1d8044ce805a98adaacbbb",
     "grade": false,
     "grade_id": "cell-6ab8c367d427a588",
     "locked": false,
     "schema_version": 3,
     "solution": true,
     "task": false
    }
   },
   "outputs": [],
   "source": [
    "def cc_mean_consider_missing(train_features_with_nans, train_labels):\n",
    "    N, d = train_features_with_nans.shape\n",
    "    \n",
    "    # your code here\n",
    "    train_labels = train_labels.T\n",
    "    pos_train_labels = train_labels == 1 \n",
    "    neg_train_labels =  train_labels == 0\n",
    "    positives = train_features_with_nans[pos_train_labels, :]\n",
    "    pos_mean = np.nanmean(positives, axis=0)     \n",
    "    pos_mean = pos_mean.reshape(-1,1)\n",
    "    negatives = train_features_with_nans[neg_train_labels, :]\n",
    "    neg_mean = np.nanmean(negatives, axis=0)     \n",
    "    neg_mean = neg_mean.reshape(-1,1)\n",
    "    mu_y = np.hstack((neg_mean, pos_mean))\n",
    "    \n",
    "    assert not np.isnan(mu_y).any()\n",
    "    assert mu_y.shape == (d, 2)\n",
    "    return mu_y"
   ]
  },
  {
   "cell_type": "code",
   "execution_count": 71,
   "metadata": {
    "deletable": false,
    "editable": false,
    "nbgrader": {
     "cell_type": "code",
     "checksum": "ec2c7c4cbb59a66bc04e3afcdd1d7701",
     "grade": true,
     "grade_id": "cell-b340557154da9804",
     "locked": true,
     "points": 1,
     "schema_version": 3,
     "solution": false,
     "task": false
    }
   },
   "outputs": [],
   "source": [
    "some_feats = np.array([[  1. ,  85. ,  66. ,  29. ,   0. ,  26.6,   0.4,  31. ],\n",
    "                       [  8. , 183. ,  64. ,   0. ,   0. ,  23.3,   0.7,  32. ],\n",
    "                       [  1. ,  89. ,  66. ,  23. ,  94. ,  28.1,   0.2,  21. ],\n",
    "                       [  0. , 137. ,  40. ,  35. , 168. ,  43.1,   2.3,  33. ],\n",
    "                       [  5. , 116. ,  74. ,   0. ,   0. ,  25.6,   0.2,  30. ]])\n",
    "some_labels = np.array([0, 1, 0, 1, 0])\n",
    "\n",
    "for i,j in [(0,0), (1,1), (2,3), (3,4), (4, 2)]:\n",
    "    some_feats[i,j] = np.nan\n",
    "\n",
    "some_mu_y = cc_mean_consider_missing(some_feats, some_labels)\n",
    "\n",
    "assert np.array_equal(some_mu_y.round(2), np.array([[  3.  ,   4.  ],\n",
    "                                                    [ 96.67, 137.  ],\n",
    "                                                    [ 66.  ,  52.  ],\n",
    "                                                    [ 14.5 ,  17.5 ],\n",
    "                                                    [ 31.33,   0.  ],\n",
    "                                                    [ 26.77,  33.2 ],\n",
    "                                                    [  0.27,   1.5 ],\n",
    "                                                    [ 27.33,  32.5 ]]))\n",
    "\n",
    "# Checking against the pre-computed test database\n",
    "test_results = test_case_checker(cc_mean_consider_missing, task_id=5)\n",
    "assert test_results['passed'], test_results['message']"
   ]
  },
  {
   "cell_type": "code",
   "execution_count": 72,
   "metadata": {},
   "outputs": [
    {
     "data": {
      "text/plain": [
       "array([[  3.48641975,   4.91866029],\n",
       "       [109.99753086, 142.30143541],\n",
       "       [ 71.41538462,  75.34693878],\n",
       "       [ 27.53658537,  32.11188811],\n",
       "       [ 66.25679012, 100.55980861],\n",
       "       [ 30.85025126,  35.31826923],\n",
       "       [  0.42825926,   0.55279904],\n",
       "       [ 31.57283951,  37.39712919]])"
      ]
     },
     "execution_count": 72,
     "metadata": {},
     "output_type": "execute_result"
    }
   ],
   "source": [
    "mu_y = cc_mean_consider_missing(train_features_with_nans, train_labels)\n",
    "mu_y"
   ]
  },
  {
   "cell_type": "markdown",
   "metadata": {},
   "source": [
    "# <span style=\"color:blue\">Task 6</span>"
   ]
  },
  {
   "cell_type": "markdown",
   "metadata": {},
   "source": [
    "Write a function `cc_std_consider_missing` that\n",
    "* has exactly the same input and output types as the `cc_std_ignore_missing` function,\n",
    "* and has similar functionality to `cc_std_ignore_missing` except that it can handle and ignore the NaN entries when computing the class conditional means.\n",
    "\n",
    "You can borrow most of the code from your `cc_std_ignore_missing` implementation, but you should make it compatible with the existence of NaN values in the features.\n",
    "\n",
    "Try and avoid the utilization of loops as much as possible. No loops are necessary."
   ]
  },
  {
   "cell_type": "markdown",
   "metadata": {},
   "source": [
    "* **Hint**: You may find the `np.nanstd` function useful."
   ]
  },
  {
   "cell_type": "code",
   "execution_count": 73,
   "metadata": {
    "deletable": false,
    "nbgrader": {
     "cell_type": "code",
     "checksum": "3001dfb41f62e3925b7edde741bb1776",
     "grade": false,
     "grade_id": "cell-927753c6215c5646",
     "locked": false,
     "schema_version": 3,
     "solution": true,
     "task": false
    }
   },
   "outputs": [],
   "source": [
    "def cc_std_consider_missing(train_features_with_nans, train_labels):\n",
    "    N, d = train_features_with_nans.shape\n",
    "    \n",
    "    # your code here\n",
    "    positive_rows = train_labels == 1\n",
    "    negative_rows = train_labels == 0\n",
    "    positives = train_features_with_nans[positive_rows,:]\n",
    "    negatives = train_features_with_nans[negative_rows,:]\n",
    "\n",
    "    pos = np.nanstd(positives, axis = 0)\n",
    "    neg = np.nanstd(negatives, axis = 0)\n",
    "    sigma_y = np.column_stack((neg, pos))\n",
    "    \n",
    "    assert not np.isnan(sigma_y).any()\n",
    "    assert sigma_y.shape == (d, 2)\n",
    "    return sigma_y"
   ]
  },
  {
   "cell_type": "code",
   "execution_count": 74,
   "metadata": {
    "deletable": false,
    "editable": false,
    "nbgrader": {
     "cell_type": "code",
     "checksum": "2c8b25848847a54241cfbaba98b8d83d",
     "grade": true,
     "grade_id": "cell-d67179c6dea81502",
     "locked": true,
     "points": 1,
     "schema_version": 3,
     "solution": false,
     "task": false
    }
   },
   "outputs": [],
   "source": [
    "some_feats = np.array([[  1. ,  85. ,  66. ,  29. ,   0. ,  26.6,   0.4,  31. ],\n",
    "                       [  8. , 183. ,  64. ,   0. ,   0. ,  23.3,   0.7,  32. ],\n",
    "                       [  1. ,  89. ,  66. ,  23. ,  94. ,  28.1,   0.2,  21. ],\n",
    "                       [  0. , 137. ,  40. ,  35. , 168. ,  43.1,   2.3,  33. ],\n",
    "                       [  5. , 116. ,  74. ,   0. ,   0. ,  25.6,   0.2,  30. ]])\n",
    "some_labels = np.array([0, 1, 0, 1, 0])\n",
    "\n",
    "for i,j in [(0,0), (1,1), (2,3), (3,4), (4, 2)]:\n",
    "    some_feats[i,j] = np.nan\n",
    "\n",
    "some_std_y = cc_std_consider_missing(some_feats, some_labels)\n",
    "\n",
    "assert np.array_equal(some_std_y.round(2), np.array([[ 2.  ,  4.  ],\n",
    "                                                     [13.77,  0.  ],\n",
    "                                                     [ 0.  , 12.  ],\n",
    "                                                     [14.5 , 17.5 ],\n",
    "                                                     [44.31,  0.  ],\n",
    "                                                     [ 1.03,  9.9 ],\n",
    "                                                     [ 0.09,  0.8 ],\n",
    "                                                     [ 4.5 ,  0.5 ]]))\n",
    "\n",
    "# Checking against the pre-computed test database\n",
    "test_results = test_case_checker(cc_std_consider_missing, task_id=6)\n",
    "assert test_results['passed'], test_results['message']"
   ]
  },
  {
   "cell_type": "code",
   "execution_count": 75,
   "metadata": {},
   "outputs": [
    {
     "data": {
      "text/plain": [
       "array([[  3.1155426 ,   3.75417931],\n",
       "       [ 25.96811899,  32.50910874],\n",
       "       [ 12.26342359,  12.1982786 ],\n",
       "       [  9.87753687,  10.37284304],\n",
       "       [ 95.63339586, 139.24364214],\n",
       "       [  6.38703834,   6.21564813],\n",
       "       [  0.29438217,   0.37201494],\n",
       "       [ 11.67577435,  11.01543899]])"
      ]
     },
     "execution_count": 75,
     "metadata": {},
     "output_type": "execute_result"
    }
   ],
   "source": [
    "sigma_y = cc_std_consider_missing(train_features_with_nans, train_labels)\n",
    "sigma_y"
   ]
  },
  {
   "cell_type": "markdown",
   "metadata": {},
   "source": [
    "## 2.1. Writing the Naive Bayes Classifier With Missing Data Handling"
   ]
  },
  {
   "cell_type": "code",
   "execution_count": 76,
   "metadata": {},
   "outputs": [],
   "source": [
    "class NBClassifierWithMissing(NBClassifier):\n",
    "    def get_cc_means(self):\n",
    "        mu_y = cc_mean_consider_missing(self.train_features, self.train_labels)\n",
    "        return mu_y\n",
    "    \n",
    "    def get_cc_std(self):\n",
    "        sigma_y = cc_std_consider_missing(self.train_features, self.train_labels)\n",
    "        return sigma_y"
   ]
  },
  {
   "cell_type": "code",
   "execution_count": 77,
   "metadata": {},
   "outputs": [],
   "source": [
    "diabetes_classifier_nans = NBClassifierWithMissing(train_features_with_nans, train_labels)\n",
    "train_pred = diabetes_classifier_nans.predict(train_features_with_nans)\n",
    "eval_pred = diabetes_classifier_nans.predict(eval_features_with_nans)"
   ]
  },
  {
   "cell_type": "code",
   "execution_count": 78,
   "metadata": {},
   "outputs": [
    {
     "name": "stdout",
     "output_type": "stream",
     "text": [
      "The training data accuracy of your trained model is 0.7182410423452769\n",
      "The evaluation data accuracy of your trained model is 0.7142857142857143\n"
     ]
    }
   ],
   "source": [
    "train_acc = (train_pred==train_labels).mean()\n",
    "eval_acc = (eval_pred==eval_labels).mean()\n",
    "print(f'The training data accuracy of your trained model is {train_acc}')\n",
    "print(f'The evaluation data accuracy of your trained model is {eval_acc}')"
   ]
  },
  {
   "cell_type": "markdown",
   "metadata": {},
   "source": [
    "# 3. Running SVMlight"
   ]
  },
  {
   "cell_type": "markdown",
   "metadata": {},
   "source": [
    "In this section, we are going to investigate the support vector machine classification method. We will become familiar with this classification method in week 3. However, in this section, we are just going to observe how this method performs to set the stage for the third week.\n",
    "\n",
    "`SVMlight` (http://svmlight.joachims.org/) is a famous implementation of the SVM classifier. \n",
    "\n",
    "`SVMLight` can be called from a shell terminal, and there is no nice wrapper for it in python3. Therefore:\n",
    "1. We have to export the training data to a special format called `svmlight/libsvm`. This can be done using scikit-learn.\n",
    "2. We have to run the `svm_learn` program to learn the model and then store it.\n",
    "3. We have to import the model back to python."
   ]
  },
  {
   "cell_type": "markdown",
   "metadata": {},
   "source": [
    "## 3.1 Exporting the training data to libsvm format"
   ]
  },
  {
   "cell_type": "code",
   "execution_count": 79,
   "metadata": {},
   "outputs": [],
   "source": [
    "from sklearn.datasets import dump_svmlight_file\n",
    "dump_svmlight_file(train_features, 2*train_labels-1, 'training_feats.data', \n",
    "                   zero_based=False, comment=None, query_id=None, multilabel=False)"
   ]
  },
  {
   "cell_type": "markdown",
   "metadata": {},
   "source": [
    "## 3.2 Training `SVMlight`"
   ]
  },
  {
   "cell_type": "code",
   "execution_count": 80,
   "metadata": {},
   "outputs": [
    {
     "name": "stdout",
     "output_type": "stream",
     "text": [
      "Scanning examples...done\n",
      "Reading examples into memory...100..200..300..400..500..600..OK. (614 examples read)\n",
      "Setting default regularization parameter C=0.0000\n",
      "Optimizing....................................................................................................................................................................................................................................................................................................................................................................................................................................................................................................................................................................................................................................................................................................................................................................................................................................................................................................................................................................................................................................................................................................................................................................................................................................................................................................................................................................................................................................................................................................................................................................................................................................................................................................................................................................................................................................................done. (1781 iterations)\n",
      "Optimization finished (141 misclassified, maxdiff=0.00099).\n",
      "Runtime in cpu-seconds: 0.19\n",
      "Number of SV: 375 (including 369 at upper bound)\n",
      "L1 loss: loss=335.23204\n",
      "Norm of weight vector: |w|=0.03179\n",
      "Norm of longest example vector: |x|=871.75350\n",
      "Estimated VCdim of classifier: VCdim<=769.24695\n",
      "Computing XiAlpha-estimates...done\n",
      "Runtime for XiAlpha-estimates in cpu-seconds: 0.00\n",
      "XiAlpha-estimate of the error: error<=60.75% (rho=1.00,depth=0)\n",
      "XiAlpha-estimate of the recall: recall=>10.53% (rho=1.00,depth=0)\n",
      "XiAlpha-estimate of the precision: precision=>10.58% (rho=1.00,depth=0)\n",
      "Number of kernel evaluations: 71356\n",
      "Writing model file...done\n",
      "\n"
     ]
    }
   ],
   "source": [
    "from subprocess import Popen, PIPE\n",
    "process = Popen([\"./svmlight/svm_learn\", \"./training_feats.data\", \"svm_model.txt\"], stdout=PIPE, stderr=PIPE)\n",
    "stdout, stderr = process.communicate()\n",
    "print(stdout.decode(\"utf-8\"))"
   ]
  },
  {
   "cell_type": "markdown",
   "metadata": {},
   "source": [
    "## 3.3 Importing the SVM Model"
   ]
  },
  {
   "cell_type": "code",
   "execution_count": 81,
   "metadata": {},
   "outputs": [],
   "source": [
    "from svm2weight import get_svmlight_weights\n",
    "svm_weights, thresh = get_svmlight_weights('svm_model.txt', printOutput=False)\n",
    "\n",
    "def svmlight_classifier(train_features):\n",
    "    return (train_features @ svm_weights - thresh).reshape(-1) >= 0."
   ]
  },
  {
   "cell_type": "code",
   "execution_count": 82,
   "metadata": {},
   "outputs": [],
   "source": [
    "train_pred = svmlight_classifier(train_features)\n",
    "eval_pred = svmlight_classifier(eval_features)"
   ]
  },
  {
   "cell_type": "code",
   "execution_count": 83,
   "metadata": {},
   "outputs": [
    {
     "name": "stdout",
     "output_type": "stream",
     "text": [
      "The training data accuracy of your trained model is 0.7703583061889251\n",
      "The evaluation data accuracy of your trained model is 0.7402597402597403\n"
     ]
    }
   ],
   "source": [
    "train_acc = (train_pred==train_labels).mean()\n",
    "eval_acc = (eval_pred==eval_labels).mean()\n",
    "print(f'The training data accuracy of your trained model is {train_acc}')\n",
    "print(f'The evaluation data accuracy of your trained model is {eval_acc}')"
   ]
  },
  {
   "cell_type": "code",
   "execution_count": null,
   "metadata": {},
   "outputs": [],
   "source": []
  },
  {
   "cell_type": "code",
   "execution_count": null,
   "metadata": {},
   "outputs": [],
   "source": []
  }
 ],
 "metadata": {
  "kernelspec": {
   "display_name": "Python 3",
   "language": "python",
   "name": "python3"
  },
  "language_info": {
   "codemirror_mode": {
    "name": "ipython",
    "version": 3
   },
   "file_extension": ".py",
   "mimetype": "text/x-python",
   "name": "python",
   "nbconvert_exporter": "python",
   "pygments_lexer": "ipython3",
   "version": "3.7.6"
  }
 },
 "nbformat": 4,
 "nbformat_minor": 4
}
